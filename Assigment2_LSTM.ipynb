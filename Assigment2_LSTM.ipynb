{
  "cells": [
    {
      "cell_type": "markdown",
      "metadata": {
        "id": "view-in-github",
        "colab_type": "text"
      },
      "source": [
        "<a href=\"https://colab.research.google.com/github/thaisbeham/Applied_deep_learning/blob/main/Assigment2_LSTM.ipynb\" target=\"_parent\"><img src=\"https://colab.research.google.com/assets/colab-badge.svg\" alt=\"Open In Colab\"/></a>"
      ]
    },
    {
      "cell_type": "markdown",
      "source": [
        "# LSTM - Fake News detection\n",
        "\n",
        "Fake - 0\n",
        "Real - 1"
      ],
      "metadata": {
        "id": "OzFQgCpKtafy"
      }
    },
    {
      "cell_type": "markdown",
      "source": [],
      "metadata": {
        "id": "vvy4rxvLKY6b"
      }
    },
    {
      "cell_type": "code",
      "source": [
        "from google.colab import drive\n",
        "drive.mount('/content/drive')"
      ],
      "metadata": {
        "colab": {
          "base_uri": "https://localhost:8080/"
        },
        "id": "nfzdqQ4HKfSE",
        "outputId": "3fa4aed0-75cc-4b5e-e49c-a67cffa891df"
      },
      "execution_count": 1,
      "outputs": [
        {
          "output_type": "stream",
          "name": "stdout",
          "text": [
            "Mounted at /content/drive\n"
          ]
        }
      ]
    },
    {
      "cell_type": "code",
      "execution_count": 43,
      "outputs": [],
      "source": [
        "\n",
        "import pandas as pd\n",
        "#from utils import merge_datasets, smaller_set\n",
        "from sklearn.model_selection import train_test_split\n",
        "from keras.models import Sequential\n",
        "from keras.preprocessing.text import Tokenizer\n",
        "from matplotlib import pyplot as plt\n",
        "from keras_preprocessing.sequence import pad_sequences\n",
        "from keras.layers import Embedding,Dense,LSTM,Dropout,Flatten,BatchNormalization,Conv1D,GlobalMaxPooling1D,MaxPooling1D, GlobalAveragePooling1D\n",
        "from keras.optimizers import  SGD\n",
        "import matplotlib.pyplot as plt\n",
        "from keras.regularizers import l2\n",
        "from keras.optimizers import Adam\n",
        "from keras import regularizers\n",
        "from keras.callbacks import EarlyStopping\n",
        "from sklearn.preprocessing import OneHotEncoder\n",
        "from keras.preprocessing import sequence\n",
        "from sklearn.model_selection import train_test_split\n",
        "\n",
        "#from hyperas.distributions import uniform\n",
        "\n",
        "from keras.utils.np_utils import to_categorical\n",
        "from keras import regularizers\n",
        "import string\n",
        "import os\n",
        "import numpy as np\n",
        "from sklearn.model_selection import train_test_split\n",
        "from sklearn.preprocessing import LabelEncoder\n",
        "from keras.models import Model\n",
        "from keras.layers import LSTM, Activation, Dense, Dropout, Input, Embedding\n",
        "from tensorflow.keras.optimizers import RMSprop\n",
        "from keras.preprocessing.text import Tokenizer\n",
        "from keras_preprocessing import sequence\n",
        "from tensorflow.keras.utils import to_categorical\n",
        "from keras.callbacks import EarlyStopping\n",
        "from sklearn.metrics import classification_report\n",
        "from sklearn.metrics import confusion_matrix\n",
        "\n"
      ],
      "metadata": {
        "pycharm": {
          "name": "#%%\n"
        },
        "id": "91HtHS8vKXCk"
      }
    },
    {
      "cell_type": "markdown",
      "source": [
        "Read data"
      ],
      "metadata": {
        "id": "ZeEUBxOQsDWg"
      }
    },
    {
      "cell_type": "code",
      "execution_count": 3,
      "outputs": [],
      "source": [
        "fake_news = pd.read_csv(\"/content/drive/MyDrive/dados_/fake.csv\")\n",
        "fake_news.text=fake_news.text.astype(str)\n",
        "real_news = pd.read_csv(\"/content/drive/MyDrive/dados_/df_2016.csv\")\n",
        "real_news.sentence =real_news.sentence.astype(str)"
      ],
      "metadata": {
        "pycharm": {
          "name": "#%%\n"
        },
        "id": "KgvgIk3RKXCp"
      }
    },
    {
      "cell_type": "code",
      "source": [
        "def merge_datasets(real, fake):\n",
        "    #take unique values from real data\n",
        "    real = real.drop_duplicates(subset = ['sentence'])\n",
        "\n",
        "    # take 13000 rows from real data\n",
        "    real = real.sample(n = 13000, random_state= 2, axis = 0)\n",
        "\n",
        "    # add column label\n",
        "    real['label'] = 1\n",
        "    fake['label'] = 0\n",
        "\n",
        "    real = real[['sentence', 'label']]\n",
        "    fake = fake[['text', 'label']]\n",
        "    real.rename(columns = {'sentence': 'text'}, inplace = True)\n",
        "\n",
        "\n",
        "    #merge real and fake\n",
        "    # use only the sentence column on fake\n",
        "    merged = pd.DataFrame(real.append(fake, ignore_index = True))\n",
        "    merged = merged.sample(frac = 1, random_state= 1, ignore_index = True)#.reset_index()\n",
        "\n",
        "    return merged\n"
      ],
      "metadata": {
        "id": "JKzSXRq2lSJ4"
      },
      "execution_count": 4,
      "outputs": []
    },
    {
      "cell_type": "code",
      "execution_count": 5,
      "outputs": [],
      "source": [
        "df = merge_datasets(real_news, fake_news)\n",
        "\n",
        "# train test split\n",
        "train, test = train_test_split(df, test_size = 0.15, random_state = 1)"
      ],
      "metadata": {
        "pycharm": {
          "name": "#%%\n"
        },
        "id": "3T3EAIS1KXCq"
      }
    },
    {
      "cell_type": "code",
      "execution_count": 52,
      "outputs": [],
      "source": [
        "X = train['text']\n",
        "Y = train['label'].astype(int)\n",
        "\n",
        "# create validation set\n",
        "X_train,X_valid,Y_train,Y_valid = train_test_split(X,Y,test_size=0.15, random_state=42)"
      ],
      "metadata": {
        "pycharm": {
          "name": "#%%\n"
        },
        "id": "EDxtohNVKXCr"
      }
    },
    {
      "cell_type": "code",
      "source": [
        "#parameters tunning\n",
        "max_words = 1000\n",
        "max_len = 150\n",
        "\n",
        "#tokenizer\n",
        "tok = Tokenizer(num_words=max_words)\n",
        "tok.fit_on_texts(X_train)\n",
        "sequences = tok.texts_to_sequences(X_train)\n",
        "sequences_matrix = sequence.pad_sequences(sequences,maxlen=max_len)"
      ],
      "metadata": {
        "id": "3QxJV4OtW42Z"
      },
      "execution_count": 13,
      "outputs": []
    },
    {
      "cell_type": "code",
      "source": [
        "def RNN():\n",
        "    inputs = Input(name='inputs',shape=[max_len])\n",
        "    layer = Embedding(max_words,50,input_length=max_len)(inputs)\n",
        "    layer = LSTM(64)(layer)\n",
        "    layer = Dense(256,name='FC1')(layer)\n",
        "    layer = Activation('relu')(layer)\n",
        "    layer = Dropout(0.5)(layer)\n",
        "    layer = Dense(1,name='out_layer')(layer)\n",
        "    layer = Activation('sigmoid')(layer)\n",
        "    model = Model(inputs=inputs,outputs=layer)\n",
        "    return model"
      ],
      "metadata": {
        "id": "Y1wYCCzqW45h"
      },
      "execution_count": 14,
      "outputs": []
    },
    {
      "cell_type": "code",
      "source": [
        "model = RNN()\n",
        "model.summary()\n",
        "model.compile(loss='binary_crossentropy',optimizer=RMSprop(),metrics=['accuracy'])"
      ],
      "metadata": {
        "colab": {
          "base_uri": "https://localhost:8080/"
        },
        "id": "lu2yu5htW_ZE",
        "outputId": "44047e45-30a8-4070-bb31-5014a89c8bc7"
      },
      "execution_count": 15,
      "outputs": [
        {
          "output_type": "stream",
          "name": "stdout",
          "text": [
            "Model: \"model\"\n",
            "_________________________________________________________________\n",
            " Layer (type)                Output Shape              Param #   \n",
            "=================================================================\n",
            " inputs (InputLayer)         [(None, 150)]             0         \n",
            "                                                                 \n",
            " embedding (Embedding)       (None, 150, 50)           50000     \n",
            "                                                                 \n",
            " lstm (LSTM)                 (None, 64)                29440     \n",
            "                                                                 \n",
            " FC1 (Dense)                 (None, 256)               16640     \n",
            "                                                                 \n",
            " activation (Activation)     (None, 256)               0         \n",
            "                                                                 \n",
            " dropout (Dropout)           (None, 256)               0         \n",
            "                                                                 \n",
            " out_layer (Dense)           (None, 1)                 257       \n",
            "                                                                 \n",
            " activation_1 (Activation)   (None, 1)                 0         \n",
            "                                                                 \n",
            "=================================================================\n",
            "Total params: 96,337\n",
            "Trainable params: 96,337\n",
            "Non-trainable params: 0\n",
            "_________________________________________________________________\n"
          ]
        }
      ]
    },
    {
      "cell_type": "code",
      "source": [
        "model.fit(sequences_matrix,Y_train,batch_size=128,epochs=10,\n",
        "          validation_split=0.2)"
      ],
      "metadata": {
        "colab": {
          "base_uri": "https://localhost:8080/"
        },
        "id": "QwChq8wbW_bt",
        "outputId": "d0e12267-156e-46f7-e2bb-d3b4a5ff4c22"
      },
      "execution_count": 16,
      "outputs": [
        {
          "output_type": "stream",
          "name": "stdout",
          "text": [
            "Epoch 1/10\n",
            "118/118 [==============================] - 9s 20ms/step - loss: 0.2017 - accuracy: 0.9267 - val_loss: 0.1086 - val_accuracy: 0.9657\n",
            "Epoch 2/10\n",
            "118/118 [==============================] - 2s 14ms/step - loss: 0.1020 - accuracy: 0.9638 - val_loss: 0.0951 - val_accuracy: 0.9665\n",
            "Epoch 3/10\n",
            "118/118 [==============================] - 2s 14ms/step - loss: 0.0818 - accuracy: 0.9708 - val_loss: 0.0907 - val_accuracy: 0.9675\n",
            "Epoch 4/10\n",
            "118/118 [==============================] - 2s 14ms/step - loss: 0.0717 - accuracy: 0.9750 - val_loss: 0.0901 - val_accuracy: 0.9699\n",
            "Epoch 5/10\n",
            "118/118 [==============================] - 2s 14ms/step - loss: 0.0645 - accuracy: 0.9766 - val_loss: 0.0870 - val_accuracy: 0.9713\n",
            "Epoch 6/10\n",
            "118/118 [==============================] - 2s 14ms/step - loss: 0.0586 - accuracy: 0.9787 - val_loss: 0.0858 - val_accuracy: 0.9689\n",
            "Epoch 7/10\n",
            "118/118 [==============================] - 2s 14ms/step - loss: 0.0535 - accuracy: 0.9805 - val_loss: 0.0896 - val_accuracy: 0.9707\n",
            "Epoch 8/10\n",
            "118/118 [==============================] - 2s 14ms/step - loss: 0.0488 - accuracy: 0.9824 - val_loss: 0.1233 - val_accuracy: 0.9590\n",
            "Epoch 9/10\n",
            "118/118 [==============================] - 2s 14ms/step - loss: 0.0455 - accuracy: 0.9835 - val_loss: 0.0968 - val_accuracy: 0.9705\n",
            "Epoch 10/10\n",
            "118/118 [==============================] - 2s 14ms/step - loss: 0.0424 - accuracy: 0.9841 - val_loss: 0.0992 - val_accuracy: 0.9654\n"
          ]
        },
        {
          "output_type": "execute_result",
          "data": {
            "text/plain": [
              "<keras.callbacks.History at 0x7fa70091d990>"
            ]
          },
          "metadata": {},
          "execution_count": 16
        }
      ]
    },
    {
      "cell_type": "code",
      "source": [
        "def predict_result(X_test, Y_test):\n",
        "  test_sequences = tok.texts_to_sequences(X_test)\n",
        "  test_sequences_matrix = sequence.pad_sequences(test_sequences,maxlen=max_len)\n",
        "  accr = model.evaluate(test_sequences_matrix,Y_test)\n",
        "  print('Test set\\n  Loss: {:0.3f}\\n  Accuracy: {:0.3f}'.format(accr[0],accr[1]))\n",
        "  predict_labels = model.predict(test_sequences_matrix) \n",
        "\n",
        "  # convert the range predicition into 0s or 1s\n",
        "  Y_pred =[ 1 if i>0.5 else 0 for i in predict_labels  ] \n",
        "\n",
        "  print(\"Number Real news:\",sum(Y_pred))\n",
        "  print(\"Number Fake news:\",len(Y_pred)-sum(Y_pred))\n",
        "  print()\n",
        "  print(\"Classification Report\")\n",
        "  print(classification_report(Y_test, Y_pred, target_names = ['class 0', 'class 1']))\n",
        "  print()\n",
        "  print(\"Confusion Matrix\")\n",
        "  matrix=confusion_matrix(Y_test,Y_pred,labels=[0,1])\n",
        "  cm=pd.DataFrame(matrix,index=['class_0 pred','class_1 pred'],columns=['class_0 True','class_1 True'])\n",
        "  print(cm)\n",
        "\n"
      ],
      "metadata": {
        "id": "4I2v-TqlXOkk"
      },
      "execution_count": 48,
      "outputs": []
    },
    {
      "cell_type": "code",
      "source": [
        "# predict on validation set\n",
        "\n",
        "predict_result(X_valid, Y_valid)"
      ],
      "metadata": {
        "colab": {
          "base_uri": "https://localhost:8080/"
        },
        "id": "3wSmSyeTxCPQ",
        "outputId": "450ed6a6-a281-4a2b-84eb-ddc3a06de763"
      },
      "execution_count": 53,
      "outputs": [
        {
          "output_type": "stream",
          "name": "stdout",
          "text": [
            "104/104 [==============================] - 1s 6ms/step - loss: 0.1364 - accuracy: 0.9551\n",
            "Test set\n",
            "  Loss: 0.136\n",
            "  Accuracy: 0.955\n",
            "104/104 [==============================] - 0s 4ms/step\n",
            "Number Real news: 1658\n",
            "Number Fake news: 1657\n",
            "\n",
            "Classification Report\n",
            "              precision    recall  f1-score   support\n",
            "\n",
            "     class 0       0.96      0.95      0.96      1670\n",
            "     class 1       0.95      0.96      0.95      1645\n",
            "\n",
            "    accuracy                           0.96      3315\n",
            "   macro avg       0.96      0.96      0.96      3315\n",
            "weighted avg       0.96      0.96      0.96      3315\n",
            "\n",
            "\n",
            "Confusion Matrix\n",
            "              class_0 True  class_1 True\n",
            "class_0 pred          1589            81\n",
            "class_1 pred            68          1577\n"
          ]
        }
      ]
    },
    {
      "cell_type": "code",
      "source": [
        "# predict on test set\n",
        "\n",
        "predict_result(test.text, test.label )\n"
      ],
      "metadata": {
        "colab": {
          "base_uri": "https://localhost:8080/"
        },
        "id": "dV50mB5euziX",
        "outputId": "bb20113b-4a14-4688-db1b-ff5fb8df495f"
      },
      "execution_count": 54,
      "outputs": [
        {
          "output_type": "stream",
          "name": "stdout",
          "text": [
            "122/122 [==============================] - 1s 6ms/step - loss: 0.1099 - accuracy: 0.9608\n",
            "Test set\n",
            "  Loss: 0.110\n",
            "  Accuracy: 0.961\n",
            "122/122 [==============================] - 0s 4ms/step\n",
            "Number Real news: 1988\n",
            "Number Fake news: 1912\n",
            "\n",
            "Classification Report\n",
            "              precision    recall  f1-score   support\n",
            "\n",
            "     class 0       0.95      0.97      0.96      1891\n",
            "     class 1       0.97      0.96      0.96      2009\n",
            "\n",
            "    accuracy                           0.96      3900\n",
            "   macro avg       0.96      0.96      0.96      3900\n",
            "weighted avg       0.96      0.96      0.96      3900\n",
            "\n",
            "\n",
            "Confusion Matrix\n",
            "              class_0 True  class_1 True\n",
            "class_0 pred          1825            66\n",
            "class_1 pred            87          1922\n"
          ]
        }
      ]
    }
  ],
  "metadata": {
    "kernelspec": {
      "display_name": "Python 3",
      "language": "python",
      "name": "python3"
    },
    "language_info": {
      "codemirror_mode": {
        "name": "ipython",
        "version": 2
      },
      "file_extension": ".py",
      "mimetype": "text/x-python",
      "name": "python",
      "nbconvert_exporter": "python",
      "pygments_lexer": "ipython2",
      "version": "2.7.6"
    },
    "colab": {
      "provenance": [],
      "include_colab_link": true
    },
    "accelerator": "GPU",
    "gpuClass": "standard"
  },
  "nbformat": 4,
  "nbformat_minor": 0
}